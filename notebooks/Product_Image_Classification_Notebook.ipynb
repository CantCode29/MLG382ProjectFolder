{
 "cells": [
  {
   "cell_type": "markdown",
   "id": "8dba0c38",
   "metadata": {},
   "source": [
    "## This notebook will be used to create an image classification model that can distiguish e-commerce products form non e-commerce products"
   ]
  }
 ],
 "metadata": {
  "language_info": {
   "name": "python"
  }
 },
 "nbformat": 4,
 "nbformat_minor": 5
}
